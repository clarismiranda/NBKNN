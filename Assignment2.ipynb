{
 "cells": [
  {
   "cell_type": "markdown",
   "metadata": {
    "collapsed": true
   },
   "source": [
    "# Assignment 2: Naive Bayes and KNN classifier\n",
    "\n",
    "In this assignment you'll implement the Naive Bayes and KNN classifier to classify patients as either having or not having diabetic retinopathy. For this task we'll be using the same Diabetic Retinopathy data set which was used in the previous assignment on decision trees. The implementation details are up to you but, generally it is a good idea to divide your code up into helper functions."
   ]
  },
  {
   "cell_type": "code",
   "execution_count": 1,
   "metadata": {},
   "outputs": [],
   "source": [
    "import pandas as pd\n",
    "import numpy as np\n",
    "import matplotlib.pyplot as plt\n",
    "from math import log\n",
    "from math import floor\n",
    "from random import shuffle"
   ]
  },
  {
   "cell_type": "code",
   "execution_count": 2,
   "metadata": {},
   "outputs": [],
   "source": [
    "class DataBind:\n",
    "    def __init__(self, minimum, maximum, probYes, probNo):\n",
    "        self.minimum = minimum\n",
    "        self.maximum = maximum\n",
    "        self.probYes = probYes\n",
    "        self.probNo = probNo"
   ]
  },
  {
   "cell_type": "code",
   "execution_count": 3,
   "metadata": {},
   "outputs": [],
   "source": [
    "class DataPoint:\n",
    "    def __str__(self):\n",
    "        return \"< \" + str(self.label) + \": \" + str(self.features) + \" >\"\n",
    "    def __init__(self, label, features):\n",
    "        self.label = label # the classification label of this data point\n",
    "        self.features = features"
   ]
  },
  {
   "cell_type": "code",
   "execution_count": 4,
   "metadata": {},
   "outputs": [],
   "source": [
    "def get_data(filename):\n",
    "    data = []\n",
    "    file_data = pd.read_csv(filename, skipinitialspace=True, header=None)\n",
    "    for i in range(0,len(file_data)):\n",
    "        data.append(DataPoint(file_data.iloc[i,19],file_data.iloc[i,0:19]))\n",
    "    return data"
   ]
  },
  {
   "cell_type": "markdown",
   "metadata": {},
   "source": [
    "## Part 1: Naive Bayes Classifier\n",
    "\n",
    "Naive Bayes (NB) classifier is a simple probabilistic classifier that is based on applying the Bayes' theorem and assumes a strong (naive) independence between features. The Diabetic Retinopath data set contains both categorical and continuous features. Dealing with categorical features has been already been discussed in detail in class. Continuous attributes, on the other hand, are more interesting to handle. Most commonly, this is done by assuming normal probability distribution over the feature values or by binning the attribute values in a fixed number of bins. In this assignment you'll be implementing the binning approach. For each continuous attribute, you'll construct 3 equal sized bins. For example, feature 5 ranges from `[1 - 120]` the 3 bins that you'll construct will be `[1 - 40]`, `[41 - 80]`, `[81 - 120]`."
   ]
  },
  {
   "cell_type": "code",
   "execution_count": 5,
   "metadata": {},
   "outputs": [],
   "source": [
    "# matrix of probability\n",
    "def get_mat_prob(data):\n",
    "    mat=[]\n",
    "    size_data = len(data)\n",
    "    yes_label = sum(x.label==1 for x in data)\n",
    "    no_label = sum(x.label!=1 for x in data)\n",
    "    for i in range(0,len(data[0].features)):\n",
    "        data.sort(key = lambda x: x.features[i])\n",
    "        minim = data[0].features[i]\n",
    "        maxim = data[size_data - 1].features[i]\n",
    "        sizebind = floor((maxim-minim)/3)\n",
    "        max_bind_one = minim + sizebind\n",
    "        max_bind_two = max_bind_one + sizebind + 1\n",
    "        bind_one_yes = sum(x.features[i] >= minim and x.features[i] <= max_bind_one and x.label == 1 for x in data)\n",
    "        bind_one_no = sum(x.features[i] >= minim and x.features[i] <= max_bind_one and x.label != 1 for x in data)\n",
    "        bind_two_yes = sum(x.features[i] >= max_bind_one+1 and x.features[i] <= max_bind_two and x.label == 1 for x in data)\n",
    "        bind_two_no = sum(x.features[i] >= max_bind_one+1 and x.features[i] <= max_bind_two and x.label != 1 for x in data)\n",
    "        bind_three_yes = sum(x.features[i] >= max_bind_two+1 and x.features[i] <= maxim and x.label == 1 for x in data)\n",
    "        bind_three_no = sum(x.features[i] >= max_bind_two+1 and x.features[i] <= maxim and x.label != 1 for x in data)\n",
    "        rowCol = []\n",
    "        # Ask to add 1 numerator and 1 to denominator (both label values (yes and no), also on final data)\n",
    "        if bind_one_yes == 0 or bind_one_no == 0:\n",
    "            rowCol.append(DataBind(minim,max_bind_one,(bind_one_yes+1)/(yes_label+1),(bind_one_no+1)/(no_label+1)))\n",
    "        else:\n",
    "            rowCol.append(DataBind(minim,max_bind_one,bind_one_yes/yes_label,bind_one_no/no_label))\n",
    "        if bind_two_yes == 0 or bind_two_no == 0:\n",
    "            rowCol.append(DataBind(max_bind_one+1,max_bind_two,(bind_two_yes+1)/(yes_label+1),(bind_two_no+1)/(no_label+1)))       \n",
    "        else:\n",
    "            rowCol.append(DataBind(max_bind_one+1,max_bind_two,bind_two_yes/yes_label,bind_two_no/no_label))\n",
    "        if bind_three_yes == 0 or bind_three_no == 0:\n",
    "            rowCol.append(DataBind(max_bind_two+1,maxim,(bind_three_yes+1)/(yes_label+1),(bind_three_no+1)/(no_label+1)))\n",
    "        else:\n",
    "            rowCol.append(DataBind(max_bind_two+1,maxim,bind_three_yes/yes_label,bind_three_no/no_label))\n",
    "        mat.append(rowCol)\n",
    "    return yes_label,no_label,np.transpose(mat)"
   ]
  },
  {
   "cell_type": "code",
   "execution_count": 6,
   "metadata": {},
   "outputs": [],
   "source": [
    "def make_prob(mat,yes_prob,no_prob,data):\n",
    "    bind = 3\n",
    "    j = 0\n",
    "    yes_prob_data = 1\n",
    "    no_prob_data = 1\n",
    "    sizeData = yes_prob + no_prob\n",
    "    for i in range(0,len(data.features)):\n",
    "        while j < bind :\n",
    "            if data.features[i] <= mat[j][i].maximum and data.features[i] >= mat[j][i].minimum:\n",
    "                yes_prob_data = yes_prob_data * mat[j][i].probYes\n",
    "                no_prob_data = no_prob_data * mat[j][i].probNo\n",
    "                break\n",
    "            j = j + 1\n",
    "        j = 0\n",
    "    yes_prob_data = yes_prob_data * (yes_prob/sizeData)\n",
    "    no_prob_data = no_prob_data * (no_prob/sizeData)\n",
    "    if yes_prob_data > no_prob_data:\n",
    "        return 1\n",
    "    else:\n",
    "        return 0"
   ]
  },
  {
   "cell_type": "code",
   "execution_count": 7,
   "metadata": {},
   "outputs": [],
   "source": [
    "def split_data(data, fold):\n",
    "    sizeStep = floor(len(data)/fold)\n",
    "    finalStep = sizeStep\n",
    "    i = 0\n",
    "    j = 0\n",
    "    folds = []\n",
    "    while i < fold:\n",
    "        data_fold = []\n",
    "        while j < finalStep:\n",
    "            data_fold.append(data[j])\n",
    "            j = j + 1\n",
    "        if i == fold-2:\n",
    "            finalStep = len(data)\n",
    "        else:\n",
    "            finalStep = finalStep + sizeStep\n",
    "        folds.append(data_fold)\n",
    "        i = i + 1\n",
    "    return folds"
   ]
  },
  {
   "cell_type": "code",
   "execution_count": 8,
   "metadata": {},
   "outputs": [],
   "source": [
    "def get_accurracy_bayes(data):\n",
    "    fold = 5\n",
    "    i = 0\n",
    "    j = 0\n",
    "    sumIncorrect = 0\n",
    "    errorAverage = 0\n",
    "    \n",
    "    # making folds\n",
    "    array_fold = np.array_split(data,fold)\n",
    "    while i < fold:\n",
    "        train_set = array_fold[i+1:fold]+array_fold[0:i] #1,2,3,4 - 2,3,4,0\n",
    "        train_set_single = [x for lst in train_set for x in lst]\n",
    "        test_set = array_fold[i] #0 - 1\n",
    "        yes_prob, no_prob, m = get_mat_prob(train_set_single)\n",
    "        while j < len(test_set):\n",
    "            if data[j].label != make_prob(m,yes_prob,no_prob,data[j]):\n",
    "                sumIncorrect = sumIncorrect + 1\n",
    "            j = j + 1\n",
    "        errorAverage = errorAverage + sumIncorrect/len(test_set)\n",
    "        sumIncorrect = 0\n",
    "        j = 0\n",
    "        i = i + 1\n",
    "    return (1 - (errorAverage/fold))"
   ]
  },
  {
   "cell_type": "code",
   "execution_count": 9,
   "metadata": {},
   "outputs": [
    {
     "name": "stdout",
     "output_type": "stream",
     "text": [
      "63.77112742330133\n"
     ]
    }
   ],
   "source": [
    "# your code goes here\n",
    "d = get_data(\"messidor_features.txt\")\n",
    "print(get_accurracy_bayes(d)*100)"
   ]
  },
  {
   "cell_type": "markdown",
   "metadata": {},
   "source": [
    "\n",
    "## Part 2: K Nearest Neighbor (KNN) Classifier\n",
    "\n",
    "The KNN classifier consists of two stages:-\n",
    "- In the training stage, the classifier takes the training data and simply memorizes it\n",
    "- In the test stage, the classifier compares the test data with the training data and simply returns the maximum occuring label of the k nearest data points.\n",
    "\n",
    "The distance calculation method is central to the algorithm, typically Euclidean distance is used but other distance metrics like Manhattan distance can also be used. In this assignment you'll be implementing the classifier using the Euclidean distance metric. It is important to note that, Euclidean distance is very sensitive to the scaling of different attributes hence, before you can build your classifier you have to normalize the values of each feature in the data set."
   ]
  },
  {
   "cell_type": "code",
   "execution_count": 10,
   "metadata": {},
   "outputs": [],
   "source": [
    "def get_norm_data(filename):\n",
    "    data = []\n",
    "    file_data = pd.read_csv(filename, skipinitialspace=True, header=None)\n",
    "    # Normalize data\n",
    "    for i in range(0,len(file_data.columns)):\n",
    "        minimum = min(file_data.iloc[:,i])\n",
    "        maximum = max(file_data.iloc[:,i])\n",
    "        for j in range(0,len(file_data)):\n",
    "            file_data.iloc[j,i] = (file_data.iloc[j,i] - minimum)/(maximum - minimum)\n",
    "    # List of data points\n",
    "    for i in range(0,200):\n",
    "        data.append(DataPoint(file_data.iloc[i,19],file_data.iloc[i,0:19]))\n",
    "    return data\n"
   ]
  },
  {
   "cell_type": "code",
   "execution_count": 11,
   "metadata": {},
   "outputs": [],
   "source": [
    "def euclidian_distance(dataX, dataY):\n",
    "    distance = 0\n",
    "    for i in range(0,len(dataX.features)):\n",
    "        distance = distance + pow(dataX.features[i]-dataY.features[i],2)\n",
    "    return pow(distance,0.5)"
   ]
  },
  {
   "cell_type": "code",
   "execution_count": 12,
   "metadata": {},
   "outputs": [],
   "source": [
    "def knn(train_set, dataPoint,k):\n",
    "    if sum([x.label for x in sorted(train_set, key = lambda y: euclidian_distance(y, dataPoint))][:k]) > k/2:\n",
    "        return 1\n",
    "    else:\n",
    "        return 0"
   ]
  },
  {
   "cell_type": "code",
   "execution_count": 14,
   "metadata": {},
   "outputs": [],
   "source": [
    "def get_train_test(array_fold,fold):\n",
    "    i = 0\n",
    "    super_train_set = []\n",
    "    test_set = []\n",
    "    while i < fold:\n",
    "        train_set = array_fold[i+1:fold]+array_fold[0:i] #1,2,3,4 - 2,3,4,0\n",
    "        super_train_set.append([x for lst in train_set for x in lst])\n",
    "        test_set.append(array_fold[i])\n",
    "        i = i + 1\n",
    "    return super_train_set, test_set"
   ]
  },
  {
   "cell_type": "code",
   "execution_count": 15,
   "metadata": {},
   "outputs": [
    {
     "data": {
      "image/png": "[encoded data removed]",
      "text/plain": [
       "<Figure size 432x288 with 1 Axes>"
      ]
     },
     "metadata": {
      "needs_background": "light"
     },
     "output_type": "display_data"
    }
   ],
   "source": [
    "def get_best_k(data,topK):\n",
    "    fold = 5\n",
    "    i = 0\n",
    "    j = 0\n",
    "    x = 0\n",
    "    sumIncorrect = 0\n",
    "    errorK = 0\n",
    "    \n",
    "    # making folds\n",
    "    array_fold = np.array_split(data,fold)\n",
    "    # making k list\n",
    "    kList = np.arange(1,topK,2)\n",
    "    kError = []\n",
    "    super_train_set, test_set = get_train_test(array_fold,fold)\n",
    "    while x < len(kList):\n",
    "        k = kList[x]\n",
    "        while i < fold:\n",
    "            while j < len(test_set[i]):\n",
    "                if test_set[i][j].label != knn(super_train_set[i],test_set[i][j],k):\n",
    "                    sumIncorrect = sumIncorrect + 1\n",
    "                j = j + 1\n",
    "            errorK = errorK + sumIncorrect/len(test_set[i])\n",
    "            sumIncorrect = 0\n",
    "            j = 0\n",
    "            i = i + 1\n",
    "        kError.append(errorK/fold)\n",
    "        errorK = 0\n",
    "        i = 0\n",
    "        x = x + 1\n",
    "    return kList, kError, kList[np.argmin(kError)]\n",
    "\n",
    "kList,kError,k=get_best_k(d,10)\n",
    "plt.scatter(kList,kError)\n",
    "plt.show()"
   ]
  },
  {
   "cell_type": "code",
   "execution_count": 16,
   "metadata": {},
   "outputs": [],
   "source": [
    "def get_accurracy_bayes(data, k, fold):\n",
    "    i = 0\n",
    "    j = 0\n",
    "    sumIncorrect = 0\n",
    "    errorK = 0\n",
    "    \n",
    "    # making folds\n",
    "    array_fold = np.array_split(data,fold)\n",
    "\n",
    "    super_train_set, test_set = get_train_test(array_fold,fold)\n",
    "    while i < fold:\n",
    "        while j < len(test_set[i]):\n",
    "            if test_set[i][j].label != knn(super_train_set[i],test_set[i][j],k):\n",
    "                sumIncorrect = sumIncorrect + 1\n",
    "            j = j + 1\n",
    "        errorK = errorK + sumIncorrect/len(test_set[i])\n",
    "        sumIncorrect = 0\n",
    "        j = 0\n",
    "        i = i + 1\n",
    "    return (1 - (errorK/fold))"
   ]
  },
  {
   "cell_type": "code",
   "execution_count": 17,
   "metadata": {},
   "outputs": [
    {
     "name": "stdout",
     "output_type": "stream",
     "text": [
      "61.5\n"
     ]
    }
   ],
   "source": [
    "d = get_norm_data(\"messidor_features.txt\")\n",
    "kList,kError,k=get_best_k(d,10)\n",
    "print(get_accurracy_bayes(d,k,5)*100)"
   ]
  }
 ],
 "metadata": {
  "kernelspec": {
   "display_name": "Python 3",
   "language": "python",
   "name": "python3"
  },
  "language_info": {
   "codemirror_mode": {
    "name": "ipython",
    "version": 3
   },
   "file_extension": ".py",
   "mimetype": "text/x-python",
   "name": "python",
   "nbconvert_exporter": "python",
   "pygments_lexer": "ipython3",
   "version": "3.7.1"
  }
 },
 "nbformat": 4,
 "nbformat_minor": 2
}
