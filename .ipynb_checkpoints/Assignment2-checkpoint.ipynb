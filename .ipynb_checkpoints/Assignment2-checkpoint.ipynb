{
 "cells": [
  {
   "cell_type": "markdown",
   "metadata": {},
   "source": [
    "## This assignment may be worked individually or in pairs. \n",
    "## Enter your name/names here:\n",
    "    "
   ]
  },
  {
   "cell_type": "code",
   "execution_count": 66,
   "metadata": {},
   "outputs": [],
   "source": [
    "#names here\n",
    "#Ana Miranda"
   ]
  },
  {
   "cell_type": "markdown",
   "metadata": {
    "collapsed": true
   },
   "source": [
    "# Assignment 2: Naive Bayes and KNN classifier\n",
    "\n",
    "In this assignment you'll implement the Naive Bayes and KNN classifier to classify patients as either having or not having diabetic retinopathy. For this task we'll be using the same Diabetic Retinopathy data set which was used in the previous assignment on decision trees. The implementation details are up to you but, generally it is a good idea to divide your code up into helper functions."
   ]
  },
  {
   "cell_type": "code",
   "execution_count": 1,
   "metadata": {},
   "outputs": [],
   "source": [
    "# Standard Headers\n",
    "# You are welcome to add additional headers if you wish\n",
    "# EXCEPT for scikit-learn... You may NOT use scikit-learn for this assignment!\n",
    "import pandas as pd\n",
    "import numpy as np\n",
    "import matplotlib.pyplot as plt\n",
    "from math import log\n",
    "from math import floor\n",
    "from random import shuffle"
   ]
  },
  {
   "cell_type": "code",
   "execution_count": 2,
   "metadata": {},
   "outputs": [],
   "source": [
    "class DataBind:\n",
    "    def __init__(self, minimum, maximum, probYes, probNo):\n",
    "        self.minimum = minimum\n",
    "        self.maximum = maximum\n",
    "        self.probYes = probYes\n",
    "        self.probNo = probNo"
   ]
  },
  {
   "cell_type": "code",
   "execution_count": 3,
   "metadata": {},
   "outputs": [],
   "source": [
    "class DataPoint:\n",
    "    def __str__(self):\n",
    "        return \"< \" + str(self.label) + \": \" + str(self.features) + \" >\"\n",
    "    def __init__(self, label, features):\n",
    "        self.label = label # the classification label of this data point\n",
    "        self.features = features"
   ]
  },
  {
   "cell_type": "markdown",
   "metadata": {},
   "source": [
    "Read the data from a CSV file. You may either put it into a list of `DataPoints` as you did on the previous assignment (class provided above), or you may choose to store it any any format you wish, like a Pandas dataframe, or any other format you'd like."
   ]
  },
  {
   "cell_type": "code",
   "execution_count": 4,
   "metadata": {},
   "outputs": [],
   "source": [
    "def get_data(filename):\n",
    "    data = []\n",
    "#     your code goes here\n",
    "    file_data = pd.read_csv(filename, skipinitialspace=True, header=None)\n",
    "    for i in range(0,len(file_data)):\n",
    "        data.append(DataPoint(file_data.iloc[i,19],file_data.iloc[i,0:19]))\n",
    "    return data"
   ]
  },
  {
   "cell_type": "markdown",
   "metadata": {},
   "source": [
    "## Part 1: Naive Bayes Classifier\n",
    "\n",
    "Naive Bayes (NB) classifier is a simple probabilistic classifier that is based on applying the Bayes' theorem and assumes a strong (naive) independence between features. The Diabetic Retinopath data set contains both categorical and continuous features. Dealing with categorical features has been already been discussed in detail in class. Continuous attributes, on the other hand, are more interesting to handle. Most commonly, this is done by assuming normal probability distribution over the feature values or by binning the attribute values in a fixed number of bins. In this assignment you'll be implementing the binning approach. For each continuous attribute, you'll construct 3 equal sized bins. For example, feature 5 ranges from `[1 - 120]` the 3 bins that you'll construct will be `[1 - 40]`, `[41 - 80]`, `[81 - 120]`."
   ]
  },
  {
   "cell_type": "markdown",
   "metadata": {},
   "source": [
    "Q1. Implement a Naive Bayes classifier. Measure the accuracy of your classifier using 5-fold cross validation and display the confusion matrix. Also print the precision and recall for class label 1 (patients that have been diagnosed with the disease)."
   ]
  },
  {
   "cell_type": "code",
   "execution_count": 5,
   "metadata": {},
   "outputs": [],
   "source": [
    "# matrix of probability\n",
    "def get_mat_prob(data):\n",
    "    mat=[]\n",
    "    size_data = len(data)\n",
    "    yes_label = sum(x.label==1 for x in data)\n",
    "    no_label = sum(x.label!=1 for x in data)\n",
    "    for i in range(0,len(data[0].features)):\n",
    "        data.sort(key = lambda x: x.features[i])\n",
    "        minim = data[0].features[i]\n",
    "        maxim = data[size_data - 1].features[i]\n",
    "        sizebind = floor((maxim-minim)/3)\n",
    "        max_bind_one = minim + sizebind\n",
    "        max_bind_two = max_bind_one + sizebind + 1\n",
    "        bind_one_yes = sum(x.features[i] >= minim and x.features[i] <= max_bind_one and x.label == 1 for x in data)\n",
    "        bind_one_no = sum(x.features[i] >= minim and x.features[i] <= max_bind_one and x.label != 1 for x in data)\n",
    "        bind_two_yes = sum(x.features[i] >= max_bind_one+1 and x.features[i] <= max_bind_two and x.label == 1 for x in data)\n",
    "        bind_two_no = sum(x.features[i] >= max_bind_one+1 and x.features[i] <= max_bind_two and x.label != 1 for x in data)\n",
    "        bind_three_yes = sum(x.features[i] >= max_bind_two+1 and x.features[i] <= maxim and x.label == 1 for x in data)\n",
    "        bind_three_no = sum(x.features[i] >= max_bind_two+1 and x.features[i] <= maxim and x.label != 1 for x in data)\n",
    "        rowCol = []\n",
    "        # Ask to add 1 numerator and 1 to denominator (both label values (yes and no), also on final data)\n",
    "        if bind_one_yes == 0 or bind_one_no == 0:\n",
    "            rowCol.append(DataBind(minim,max_bind_one,(bind_one_yes+1)/(yes_label+1),(bind_one_no+1)/(no_label+1)))\n",
    "        else:\n",
    "            rowCol.append(DataBind(minim,max_bind_one,bind_one_yes/yes_label,bind_one_no/no_label))\n",
    "        if bind_two_yes == 0 or bind_two_no == 0:\n",
    "            rowCol.append(DataBind(max_bind_one+1,max_bind_two,(bind_two_yes+1)/(yes_label+1),(bind_two_no+1)/(no_label+1)))       \n",
    "        else:\n",
    "            rowCol.append(DataBind(max_bind_one+1,max_bind_two,bind_two_yes/yes_label,bind_two_no/no_label))\n",
    "        if bind_three_yes == 0 or bind_three_no == 0:\n",
    "            rowCol.append(DataBind(max_bind_two+1,maxim,(bind_three_yes+1)/(yes_label+1),(bind_three_no+1)/(no_label+1)))\n",
    "        else:\n",
    "            rowCol.append(DataBind(max_bind_two+1,maxim,bind_three_yes/yes_label,bind_three_no/no_label))\n",
    "        mat.append(rowCol)\n",
    "    return yes_label,no_label,np.transpose(mat)"
   ]
  },
  {
   "cell_type": "code",
   "execution_count": 6,
   "metadata": {},
   "outputs": [],
   "source": [
    "def make_prob(mat,yes_prob,no_prob,data):\n",
    "    bind = 3\n",
    "    j = 0\n",
    "    yes_prob_data = 1\n",
    "    no_prob_data = 1\n",
    "    sizeData = yes_prob + no_prob\n",
    "    for i in range(0,len(data.features)):\n",
    "        while j < bind :\n",
    "            if data.features[i] <= mat[j][i].maximum and data.features[i] >= mat[j][i].minimum:\n",
    "                yes_prob_data = yes_prob_data * mat[j][i].probYes\n",
    "                no_prob_data = no_prob_data * mat[j][i].probNo\n",
    "                break\n",
    "            j = j + 1\n",
    "        j = 0\n",
    "    yes_prob_data = yes_prob_data * (yes_prob/sizeData)\n",
    "    no_prob_data = no_prob_data * (no_prob/sizeData)\n",
    "    if yes_prob_data > no_prob_data:\n",
    "        return 1\n",
    "    else:\n",
    "        return 0"
   ]
  },
  {
   "cell_type": "code",
   "execution_count": 7,
   "metadata": {},
   "outputs": [],
   "source": [
    "def split_data(data, fold):\n",
    "    sizeStep = floor(len(data)/fold)\n",
    "    finalStep = sizeStep\n",
    "    i = 0\n",
    "    j = 0\n",
    "    folds = []\n",
    "    while i < fold:\n",
    "        data_fold = []\n",
    "        while j < finalStep:\n",
    "            data_fold.append(data[j])\n",
    "            j = j + 1\n",
    "        if i == fold-2:\n",
    "            finalStep = len(data)\n",
    "        else:\n",
    "            finalStep = finalStep + sizeStep\n",
    "        folds.append(data_fold)\n",
    "        i = i + 1\n",
    "    return folds"
   ]
  },
  {
   "cell_type": "code",
   "execution_count": 8,
   "metadata": {},
   "outputs": [],
   "source": [
    "def get_accurracy_bayes(data):\n",
    "    fold = 5\n",
    "    i = 0\n",
    "    j = 0\n",
    "    sumIncorrect = 0\n",
    "    errorAverage = 0\n",
    "    \n",
    "    # making folds\n",
    "    array_fold = np.array_split(data,fold)\n",
    "    while i < fold:\n",
    "        train_set = array_fold[i+1:fold]+array_fold[0:i] #1,2,3,4 - 2,3,4,0\n",
    "        train_set_single = [x for lst in train_set for x in lst]\n",
    "        test_set = array_fold[i] #0 - 1\n",
    "        yes_prob, no_prob, m = get_mat_prob(train_set_single)\n",
    "        while j < len(test_set):\n",
    "            if data[j].label != make_prob(m,yes_prob,no_prob,data[j]):\n",
    "                sumIncorrect = sumIncorrect + 1\n",
    "            j = j + 1\n",
    "        errorAverage = errorAverage + sumIncorrect/len(test_set)\n",
    "        sumIncorrect = 0\n",
    "        j = 0\n",
    "        i = i + 1\n",
    "    return errorAverage/fold"
   ]
  },
  {
   "cell_type": "code",
   "execution_count": 9,
   "metadata": {},
   "outputs": [
    {
     "name": "stdout",
     "output_type": "stream",
     "text": [
      "36.22887257669867\n"
     ]
    }
   ],
   "source": [
    "# your code goes here\n",
    "d = get_data(\"messidor_features.txt\")\n",
    "print(get_accurracy_bayes(d)*100)\n",
    "#x = []\n",
    "#x.append(DataPoint(0,[1,10000,5]))\n",
    "#x.append(DataPoint(0,[1,10000,20]))\n",
    "#x.append(DataPoint(0,[1,25000,1]))\n",
    "#x.append(DataPoint(0,[2,15000,1]))\n",
    "#x.append(DataPoint(0,[3,2000,15]))\n",
    "#x.append(DataPoint(0,[1,12000,6]))\n",
    "#x.append(DataPoint(1,[3,5000,1]))\n",
    "#x.append(DataPoint(1,[3,8000,12]))\n",
    "#x.append(DataPoint(1,[1,10000,3]))\n",
    "#x.append(DataPoint(1,[2,5000,1]))\n",
    "#dataPoint = DataPoint(3,[1,5000,9])\n",
    "#yes_prob, no_prob, m = get_mat_prob(x)\n",
    "#print(m[1][2].minimum)\n",
    "#print(m[1][2].maximum)\n",
    "#print(m[1][2].probYes)\n",
    "#print(m[1][2].probNo)\n",
    "#print(m[0][1].minimum)\n",
    "#print(m[0][1].maximum)\n",
    "#print(m[0][1].probYes)\n",
    "#print(m[0][1].probNo)\n",
    "#print(m[0][0].minimum)\n",
    "#print(m[0][0].maximum)\n",
    "#print(m[0][0].probYes)\n",
    "#print(m[0][0].probNo)\n",
    "#print(make_prob(m,yes_prob,no_prob,dataPoint))"
   ]
  },
  {
   "cell_type": "markdown",
   "metadata": {},
   "source": [
    "\n",
    "## Part 2: K Nearest Neighbor (KNN) Classifier\n",
    "\n",
    "The KNN classifier consists of two stages:-\n",
    "- In the training stage, the classifier takes the training data and simply memorizes it\n",
    "- In the test stage, the classifier compares the test data with the training data and simply returns the maximum occuring label of the k nearest data points.\n",
    "\n",
    "The distance calculation method is central to the algorithm, typically Euclidean distance is used but other distance metrics like Manhattan distance can also be used. In this assignment you'll be implementing the classifier using the Euclidean distance metric. It is important to note that, Euclidean distance is very sensitive to the scaling of different attributes hence, before you can build your classifier you have to normalize the values of each feature in the data set."
   ]
  },
  {
   "cell_type": "markdown",
   "metadata": {},
   "source": [
    "Q2. Normalize the dataset so that each feature value lies between `[0-1]`."
   ]
  },
  {
   "cell_type": "code",
   "execution_count": 10,
   "metadata": {},
   "outputs": [],
   "source": [
    "# your code goes here\n",
    "def get_norm_data(filename):\n",
    "    data = []\n",
    "#     your code goes here\n",
    "    file_data = pd.read_csv(filename, skipinitialspace=True, header=None)\n",
    "    # Normalize data\n",
    "    for i in range(0,len(file_data.columns)):\n",
    "        minimum = min(file_data.iloc[:,i])\n",
    "        maximum = max(file_data.iloc[:,i])\n",
    "        for j in range(0,len(file_data)):\n",
    "            file_data.iloc[j,i] = (file_data.iloc[j,i] - minimum)/(maximum - minimum)\n",
    "    # List of data points\n",
    "    for i in range(0,200):\n",
    "        data.append(DataPoint(file_data.iloc[i,19],file_data.iloc[i,0:19]))\n",
    "    return data\n"
   ]
  },
  {
   "cell_type": "markdown",
   "metadata": {},
   "source": [
    "Q3. Build your KNN classifier. "
   ]
  },
  {
   "cell_type": "code",
   "execution_count": 11,
   "metadata": {},
   "outputs": [],
   "source": [
    "def euclidian_distance(dataX, dataY):\n",
    "    distance = 0\n",
    "    for i in range(0,len(dataX.features)):\n",
    "        distance = distance + pow(dataX.features[i]-dataY.features[i],2)\n",
    "    return pow(distance,0.5)"
   ]
  },
  {
   "cell_type": "code",
   "execution_count": 12,
   "metadata": {},
   "outputs": [],
   "source": [
    "# your code goes here\n",
    "def knn(train_set, dataPoint,k):\n",
    "    if sum([x.label for x in sorted(train_set, key = lambda y: euclidian_distance(y, dataPoint))][:k]) > k/2:\n",
    "        return 1\n",
    "    else:\n",
    "        return 0"
   ]
  },
  {
   "cell_type": "code",
   "execution_count": 13,
   "metadata": {},
   "outputs": [],
   "source": [
    "#k=3\n",
    "#x = []\n",
    "#x.append(DataPoint(0,[1,7,7]))\n",
    "#x.append(DataPoint(0,[0,7,4]))\n",
    "#x.append(DataPoint(1,[1,3,4]))\n",
    "#x.append(DataPoint(1,[1,1,4]))\n",
    "#dataPoint = DataPoint(2,[0,3,7])\n",
    "\n",
    "#print(knn(x,dataPoint,k))"
   ]
  },
  {
   "cell_type": "markdown",
   "metadata": {},
   "source": [
    "Q4. Find the best value of k using 5-fold cross validation. In each fold of CV, divide your data into a training set and a validation set. Try k ranging from 1 to 10 and plot the accuracies using 5-fold CV. Use this plot to identify the best value of k (provide reasoning)."
   ]
  },
  {
   "cell_type": "code",
   "execution_count": 14,
   "metadata": {},
   "outputs": [],
   "source": [
    "def get_train_test(array_fold,fold):\n",
    "    i = 0\n",
    "    super_train_set = []\n",
    "    test_set = []\n",
    "    while i < fold:\n",
    "        train_set = array_fold[i+1:fold]+array_fold[0:i] #1,2,3,4 - 2,3,4,0\n",
    "        super_train_set.append([x for lst in train_set for x in lst])\n",
    "        test_set.append(array_fold[i])\n",
    "        i = i + 1\n",
    "    return super_train_set, test_set"
   ]
  },
  {
   "cell_type": "code",
   "execution_count": 15,
   "metadata": {},
   "outputs": [],
   "source": [
    "# your code goes here\n",
    "def get_best_k(data,topK):\n",
    "    fold = 5\n",
    "    i = 0\n",
    "    j = 0\n",
    "    x = 0\n",
    "    sumIncorrect = 0\n",
    "    errorK = 0\n",
    "    \n",
    "    # making folds\n",
    "    array_fold = np.array_split(data,fold)\n",
    "    # making k list\n",
    "    kList = np.arange(1,topK,2)\n",
    "    kError = []\n",
    "    super_train_set, test_set = get_train_test(array_fold,fold)\n",
    "    while x < len(kList):\n",
    "        k = kList[x]\n",
    "        while i < fold:\n",
    "            while j < len(test_set[i]):\n",
    "                if test_set[i][j].label != knn(super_train_set[i],test_set[i][j],k):\n",
    "                    sumIncorrect = sumIncorrect + 1\n",
    "                j = j + 1\n",
    "            errorK = errorK + sumIncorrect/len(test_set[i])\n",
    "            sumIncorrect = 0\n",
    "            j = 0\n",
    "            i = i + 1\n",
    "        kError.append(errorK/fold)\n",
    "        errorK = 0\n",
    "        i = 0\n",
    "        x = x + 1\n",
    "    return kList, kError, kList[np.argmin(kError)]"
   ]
  },
  {
   "cell_type": "markdown",
   "metadata": {},
   "source": [
    "Q5. Now measure the accuracy of your classifier using 5-fold cross validation. In each fold of this CV, divide your data into a training set and a test set. The training set should get sent through your code for Q4, resulting in a value of k to use. Using that k, calculate an accuracy on the test set. You will average the accuracy over all 5 folds to obtain the final accuracy measurement. Print the accuracy as well as the precision and recall for class label 1 (patients that have been diagnosed with the disease)."
   ]
  },
  {
   "cell_type": "code",
   "execution_count": null,
   "metadata": {},
   "outputs": [],
   "source": [
    "def get_accurracy_bayes(data, k, fold):\n",
    "    i = 0\n",
    "    j = 0\n",
    "    sumIncorrect = 0\n",
    "    error = 0\n",
    "    \n",
    "    # making folds\n",
    "    array_fold = np.array_split(data,fold)\n",
    "\n",
    "    super_train_set, test_set = get_train_test(array_fold,fold)\n",
    "    while i < fold:\n",
    "        while j < len(test_set[i]):\n",
    "            if test_set[i][j].label != knn(super_train_set[i],test_set[i][j],k):\n",
    "                sumIncorrect = sumIncorrect + 1\n",
    "            j = j + 1\n",
    "        error = error + sumIncorrect/len(test_set[i])\n",
    "        sumIncorrect = 0\n",
    "        j = 0\n",
    "        i = i + 1\n",
    "return (error/fold)"
   ]
  },
  {
   "cell_type": "code",
   "execution_count": null,
   "metadata": {},
   "outputs": [],
   "source": [
    "# your code goes here\n",
    "\n",
    "#kList = np.arange(1,10,2)\n",
    "d = get_norm_data(\"messidor_features.txt\")\n",
    "print(\"ya termine\")\n",
    "kList,kError,k=get_best_k(d,10)\n",
    "print(\"best k\")\n",
    "print(k)\n",
    "print(get_accurracy_bayes(d,k,5)*100)\n",
    "plt.scatter(kList,kError)\n",
    "plt.show()"
   ]
  },
  {
   "cell_type": "markdown",
   "metadata": {},
   "source": [
    "### To explore further:\n",
    "\n",
    "1) Use scikit-learn's NearestNeighbor classifier to classify the data. Compare those results to your own. The documentation can be found [here](http://scikit-learn.org/stable/modules/neighbors.html), specifically section 1.6.2 and the link to the [KNeighborsClassifier](http://scikit-learn.org/stable/modules/generated/sklearn.neighbors.KNeighborsClassifier.html#sklearn.neighbors.KNeighborsClassifier).\n",
    "\n",
    "2) Use scikit-learn's Naive Bayes classifier to classify the data. Compare those results to your own. The documentation is found [here](http://scikit-learn.org/stable/modules/naive_bayes.html), specifically section 1.9.2 and the link to [MultinomialNB](http://scikit-learn.org/stable/modules/generated/sklearn.naive_bayes.MultinomialNB.html#sklearn.naive_bayes.MultinomialNB). You will want to bin the continuous attributes, as you did above, and consider each bin to be a categorical value for that attribute. For example, feature 5 ranges from [1 - 120], and the 3 bins that you'll construct will be [1 - 40], [41 - 80], [81 - 120]. You can think of this as saying that feature 5 can take 1 of 3 values: low, med, or high. With binning, you have transformed all of your features into categorical features and the MultinomialNB version of Naive Bayes is what should be used for all categorical data. "
   ]
  },
  {
   "cell_type": "code",
   "execution_count": null,
   "metadata": {},
   "outputs": [],
   "source": []
  }
 ],
 "metadata": {
  "kernelspec": {
   "display_name": "Python 3",
   "language": "python",
   "name": "python3"
  },
  "language_info": {
   "codemirror_mode": {
    "name": "ipython",
    "version": 3
   },
   "file_extension": ".py",
   "mimetype": "text/x-python",
   "name": "python",
   "nbconvert_exporter": "python",
   "pygments_lexer": "ipython3",
   "version": "3.7.1"
  }
 },
 "nbformat": 4,
 "nbformat_minor": 2
}
